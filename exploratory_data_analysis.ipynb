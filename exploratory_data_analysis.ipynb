{
 "cells": [
  {
   "cell_type": "markdown",
   "id": "5289c454",
   "metadata": {},
   "source": [
    "# Exploratory Data Analysis of Datasets"
   ]
  },
  {
   "cell_type": "code",
   "execution_count": 2,
   "id": "c7aae12b",
   "metadata": {},
   "outputs": [],
   "source": [
    "import gensim\n",
    "import logging\n",
    "import time\n",
    "import pandas as pd\n",
    "import matplotlib.pyplot as plt\n",
    "import numpy as np\n",
    "import requests\n",
    "import random"
   ]
  },
  {
   "cell_type": "code",
   "execution_count": 3,
   "id": "a1c384a6-ecfa-4970-9bfb-f60aa6fac788",
   "metadata": {},
   "outputs": [],
   "source": [
    "unique_books_df = pd.read_csv('unique_books.csv')\n",
    "#this includes only information about books and not users"
   ]
  },
  {
   "cell_type": "code",
   "execution_count": 4,
   "id": "71804dc4",
   "metadata": {},
   "outputs": [
    {
     "data": {
      "text/plain": [
       "(4327, 18)"
      ]
     },
     "execution_count": 4,
     "metadata": {},
     "output_type": "execute_result"
    }
   ],
   "source": [
    "unique_books_df.shape"
   ]
  },
  {
   "cell_type": "code",
   "execution_count": 5,
   "id": "443433e9",
   "metadata": {},
   "outputs": [
    {
     "data": {
      "text/html": [
       "<div>\n",
       "<style scoped>\n",
       "    .dataframe tbody tr th:only-of-type {\n",
       "        vertical-align: middle;\n",
       "    }\n",
       "\n",
       "    .dataframe tbody tr th {\n",
       "        vertical-align: top;\n",
       "    }\n",
       "\n",
       "    .dataframe thead th {\n",
       "        text-align: right;\n",
       "    }\n",
       "</style>\n",
       "<table border=\"1\" class=\"dataframe\">\n",
       "  <thead>\n",
       "    <tr style=\"text-align: right;\">\n",
       "      <th></th>\n",
       "      <th>Unnamed: 0</th>\n",
       "      <th>user_id</th>\n",
       "      <th>book_id</th>\n",
       "      <th>rating</th>\n",
       "      <th>SortIndex1</th>\n",
       "      <th>SortIndex2</th>\n",
       "      <th>goodreads_book_id</th>\n",
       "      <th>isbn</th>\n",
       "      <th>isbn13</th>\n",
       "      <th>original_title</th>\n",
       "      <th>average_rating</th>\n",
       "      <th>ratings_count</th>\n",
       "      <th>book_authors</th>\n",
       "      <th>book_desc</th>\n",
       "      <th>book_isbn</th>\n",
       "      <th>book_title</th>\n",
       "      <th>genres</th>\n",
       "      <th>book_desc_tok</th>\n",
       "    </tr>\n",
       "  </thead>\n",
       "  <tbody>\n",
       "    <tr>\n",
       "      <th>0</th>\n",
       "      <td>0</td>\n",
       "      <td>2</td>\n",
       "      <td>2318</td>\n",
       "      <td>3</td>\n",
       "      <td>41929</td>\n",
       "      <td>398</td>\n",
       "      <td>998.0</td>\n",
       "      <td>671015206</td>\n",
       "      <td>9.780671e+12</td>\n",
       "      <td>The Millionaire Next Door: The Surprising Secr...</td>\n",
       "      <td>4.00</td>\n",
       "      <td>43937.0</td>\n",
       "      <td>['Thomas J. Stanley', 'William D. Danko']</td>\n",
       "      <td>The incredible national bestseller that is cha...</td>\n",
       "      <td>9.780670e+12</td>\n",
       "      <td>The Millionaire Next Door: The Surprising Secr...</td>\n",
       "      <td>['Economics', 'Finance', 'Nonfiction', 'Busine...</td>\n",
       "      <td>the    incredible    national    bestseller ...</td>\n",
       "    </tr>\n",
       "    <tr>\n",
       "      <th>1</th>\n",
       "      <td>389</td>\n",
       "      <td>2</td>\n",
       "      <td>26</td>\n",
       "      <td>4</td>\n",
       "      <td>41929</td>\n",
       "      <td>227</td>\n",
       "      <td>968.0</td>\n",
       "      <td>307277674</td>\n",
       "      <td>9.780307e+12</td>\n",
       "      <td>The Da Vinci Code</td>\n",
       "      <td>3.79</td>\n",
       "      <td>1447148.0</td>\n",
       "      <td>['Dan Brown']</td>\n",
       "      <td>An ingenious code hidden in the works of Leona...</td>\n",
       "      <td>9.780310e+12</td>\n",
       "      <td>The Da Vinci Code</td>\n",
       "      <td>['Fiction', 'Mystery', 'Thriller']</td>\n",
       "      <td>an    ingenious    code    hidden    in    t...</td>\n",
       "    </tr>\n",
       "    <tr>\n",
       "      <th>2</th>\n",
       "      <td>13461</td>\n",
       "      <td>2</td>\n",
       "      <td>315</td>\n",
       "      <td>3</td>\n",
       "      <td>41929</td>\n",
       "      <td>193</td>\n",
       "      <td>4894.0</td>\n",
       "      <td>91883768</td>\n",
       "      <td>9.780092e+12</td>\n",
       "      <td>Who Moved My Cheese?</td>\n",
       "      <td>3.74</td>\n",
       "      <td>237272.0</td>\n",
       "      <td>['Spencer Johnson', 'Kenneth H. Blanchard']</td>\n",
       "      <td>Written by Spencer Johnson, coauthor of The On...</td>\n",
       "      <td>9.780090e+12</td>\n",
       "      <td>Who Moved My Cheese?</td>\n",
       "      <td>['Business', 'Self Help', 'Nonfiction', 'Psych...</td>\n",
       "      <td>written    by    spencer    johnson         ...</td>\n",
       "    </tr>\n",
       "    <tr>\n",
       "      <th>3</th>\n",
       "      <td>15287</td>\n",
       "      <td>2</td>\n",
       "      <td>33</td>\n",
       "      <td>4</td>\n",
       "      <td>41929</td>\n",
       "      <td>98</td>\n",
       "      <td>930.0</td>\n",
       "      <td>739326228</td>\n",
       "      <td>9.780739e+12</td>\n",
       "      <td>Memoirs of a Geisha</td>\n",
       "      <td>4.08</td>\n",
       "      <td>1300209.0</td>\n",
       "      <td>['Arthur Golden']</td>\n",
       "      <td>A literary sensation and runaway bestseller, t...</td>\n",
       "      <td>9.780740e+12</td>\n",
       "      <td>Memoirs of a Geisha</td>\n",
       "      <td>['Fiction', 'Historical', 'Historical Fiction'...</td>\n",
       "      <td>a    literary    sensation    and    runaway...</td>\n",
       "    </tr>\n",
       "    <tr>\n",
       "      <th>4</th>\n",
       "      <td>49199</td>\n",
       "      <td>2</td>\n",
       "      <td>301</td>\n",
       "      <td>5</td>\n",
       "      <td>41929</td>\n",
       "      <td>194</td>\n",
       "      <td>4900.0</td>\n",
       "      <td>1892295490</td>\n",
       "      <td>9.781892e+12</td>\n",
       "      <td>Heart of Darkness</td>\n",
       "      <td>3.42</td>\n",
       "      <td>255576.0</td>\n",
       "      <td>['Joseph Conrad']</td>\n",
       "      <td>Dark allegory describes the narrator's journey...</td>\n",
       "      <td>9.781890e+12</td>\n",
       "      <td>Heart of Darkness</td>\n",
       "      <td>['Classics', 'Fiction', 'Literature', 'Cultura...</td>\n",
       "      <td>dark    allegory    describes    the    narr...</td>\n",
       "    </tr>\n",
       "  </tbody>\n",
       "</table>\n",
       "</div>"
      ],
      "text/plain": [
       "   Unnamed: 0  user_id  book_id  rating  SortIndex1  SortIndex2  \\\n",
       "0           0        2     2318       3       41929         398   \n",
       "1         389        2       26       4       41929         227   \n",
       "2       13461        2      315       3       41929         193   \n",
       "3       15287        2       33       4       41929          98   \n",
       "4       49199        2      301       5       41929         194   \n",
       "\n",
       "   goodreads_book_id        isbn        isbn13  \\\n",
       "0              998.0   671015206  9.780671e+12   \n",
       "1              968.0   307277674  9.780307e+12   \n",
       "2             4894.0    91883768  9.780092e+12   \n",
       "3              930.0   739326228  9.780739e+12   \n",
       "4             4900.0  1892295490  9.781892e+12   \n",
       "\n",
       "                                      original_title  average_rating  \\\n",
       "0  The Millionaire Next Door: The Surprising Secr...            4.00   \n",
       "1                                  The Da Vinci Code            3.79   \n",
       "2                               Who Moved My Cheese?            3.74   \n",
       "3                                Memoirs of a Geisha            4.08   \n",
       "4                                  Heart of Darkness            3.42   \n",
       "\n",
       "   ratings_count                                 book_authors  \\\n",
       "0        43937.0    ['Thomas J. Stanley', 'William D. Danko']   \n",
       "1      1447148.0                                ['Dan Brown']   \n",
       "2       237272.0  ['Spencer Johnson', 'Kenneth H. Blanchard']   \n",
       "3      1300209.0                            ['Arthur Golden']   \n",
       "4       255576.0                            ['Joseph Conrad']   \n",
       "\n",
       "                                           book_desc     book_isbn  \\\n",
       "0  The incredible national bestseller that is cha...  9.780670e+12   \n",
       "1  An ingenious code hidden in the works of Leona...  9.780310e+12   \n",
       "2  Written by Spencer Johnson, coauthor of The On...  9.780090e+12   \n",
       "3  A literary sensation and runaway bestseller, t...  9.780740e+12   \n",
       "4  Dark allegory describes the narrator's journey...  9.781890e+12   \n",
       "\n",
       "                                          book_title  \\\n",
       "0  The Millionaire Next Door: The Surprising Secr...   \n",
       "1                                  The Da Vinci Code   \n",
       "2                               Who Moved My Cheese?   \n",
       "3                                Memoirs of a Geisha   \n",
       "4                                  Heart of Darkness   \n",
       "\n",
       "                                              genres  \\\n",
       "0  ['Economics', 'Finance', 'Nonfiction', 'Busine...   \n",
       "1                 ['Fiction', 'Mystery', 'Thriller']   \n",
       "2  ['Business', 'Self Help', 'Nonfiction', 'Psych...   \n",
       "3  ['Fiction', 'Historical', 'Historical Fiction'...   \n",
       "4  ['Classics', 'Fiction', 'Literature', 'Cultura...   \n",
       "\n",
       "                                       book_desc_tok  \n",
       "0    the    incredible    national    bestseller ...  \n",
       "1    an    ingenious    code    hidden    in    t...  \n",
       "2    written    by    spencer    johnson         ...  \n",
       "3    a    literary    sensation    and    runaway...  \n",
       "4    dark    allegory    describes    the    narr...  "
      ]
     },
     "execution_count": 5,
     "metadata": {},
     "output_type": "execute_result"
    }
   ],
   "source": [
    "unique_books_df.head()"
   ]
  },
  {
   "cell_type": "code",
   "execution_count": 7,
   "id": "7318bba2",
   "metadata": {},
   "outputs": [
    {
     "name": "stderr",
     "output_type": "stream",
     "text": [
      "/home/vkanoria/anaconda3/lib/python3.9/site-packages/IPython/core/interactiveshell.py:3444: DtypeWarning: Columns (7) have mixed types.Specify dtype option on import or set low_memory=False.\n",
      "  exec(code_obj, self.user_global_ns, self.user_ns)\n"
     ]
    }
   ],
   "source": [
    "complete_df = pd.read_csv('final_books_dataset_lang_clean.csv')\n",
    "#this includes user and ratings data for the books in the unique dataset above"
   ]
  },
  {
   "cell_type": "code",
   "execution_count": 8,
   "id": "d86b6036",
   "metadata": {},
   "outputs": [
    {
     "data": {
      "text/plain": [
       "(3540345, 18)"
      ]
     },
     "execution_count": 8,
     "metadata": {},
     "output_type": "execute_result"
    }
   ],
   "source": [
    "complete_df.shape"
   ]
  },
  {
   "cell_type": "code",
   "execution_count": 9,
   "id": "dc6752d7",
   "metadata": {
    "scrolled": true
   },
   "outputs": [
    {
     "data": {
      "text/html": [
       "<div>\n",
       "<style scoped>\n",
       "    .dataframe tbody tr th:only-of-type {\n",
       "        vertical-align: middle;\n",
       "    }\n",
       "\n",
       "    .dataframe tbody tr th {\n",
       "        vertical-align: top;\n",
       "    }\n",
       "\n",
       "    .dataframe thead th {\n",
       "        text-align: right;\n",
       "    }\n",
       "</style>\n",
       "<table border=\"1\" class=\"dataframe\">\n",
       "  <thead>\n",
       "    <tr style=\"text-align: right;\">\n",
       "      <th></th>\n",
       "      <th>Unnamed: 0</th>\n",
       "      <th>user_id</th>\n",
       "      <th>book_id</th>\n",
       "      <th>rating</th>\n",
       "      <th>SortIndex1</th>\n",
       "      <th>SortIndex2</th>\n",
       "      <th>goodreads_book_id</th>\n",
       "      <th>isbn</th>\n",
       "      <th>isbn13</th>\n",
       "      <th>original_title</th>\n",
       "      <th>average_rating</th>\n",
       "      <th>ratings_count</th>\n",
       "      <th>book_authors</th>\n",
       "      <th>book_desc</th>\n",
       "      <th>book_isbn</th>\n",
       "      <th>book_title</th>\n",
       "      <th>genres</th>\n",
       "      <th>book_desc_tok</th>\n",
       "    </tr>\n",
       "  </thead>\n",
       "  <tbody>\n",
       "    <tr>\n",
       "      <th>0</th>\n",
       "      <td>0</td>\n",
       "      <td>2</td>\n",
       "      <td>2318</td>\n",
       "      <td>3</td>\n",
       "      <td>38440</td>\n",
       "      <td>94</td>\n",
       "      <td>998.0</td>\n",
       "      <td>671015206</td>\n",
       "      <td>9.780671e+12</td>\n",
       "      <td>The Millionaire Next Door: The Surprising Secr...</td>\n",
       "      <td>4.0</td>\n",
       "      <td>43937.0</td>\n",
       "      <td>['Thomas J. Stanley', 'William D. Danko']</td>\n",
       "      <td>The incredible national bestseller that is cha...</td>\n",
       "      <td>9.780670e+12</td>\n",
       "      <td>The Millionaire Next Door: The Surprising Secr...</td>\n",
       "      <td>['Economics', 'Finance', 'Nonfiction', 'Busine...</td>\n",
       "      <td>the    incredible    national    bestseller ...</td>\n",
       "    </tr>\n",
       "    <tr>\n",
       "      <th>1</th>\n",
       "      <td>1</td>\n",
       "      <td>953</td>\n",
       "      <td>2318</td>\n",
       "      <td>5</td>\n",
       "      <td>10530</td>\n",
       "      <td>133</td>\n",
       "      <td>998.0</td>\n",
       "      <td>671015206</td>\n",
       "      <td>9.780671e+12</td>\n",
       "      <td>The Millionaire Next Door: The Surprising Secr...</td>\n",
       "      <td>4.0</td>\n",
       "      <td>43937.0</td>\n",
       "      <td>['Thomas J. Stanley', 'William D. Danko']</td>\n",
       "      <td>The incredible national bestseller that is cha...</td>\n",
       "      <td>9.780670e+12</td>\n",
       "      <td>The Millionaire Next Door: The Surprising Secr...</td>\n",
       "      <td>['Economics', 'Finance', 'Nonfiction', 'Busine...</td>\n",
       "      <td>the    incredible    national    bestseller ...</td>\n",
       "    </tr>\n",
       "    <tr>\n",
       "      <th>2</th>\n",
       "      <td>2</td>\n",
       "      <td>979</td>\n",
       "      <td>2318</td>\n",
       "      <td>2</td>\n",
       "      <td>43059</td>\n",
       "      <td>369</td>\n",
       "      <td>998.0</td>\n",
       "      <td>671015206</td>\n",
       "      <td>9.780671e+12</td>\n",
       "      <td>The Millionaire Next Door: The Surprising Secr...</td>\n",
       "      <td>4.0</td>\n",
       "      <td>43937.0</td>\n",
       "      <td>['Thomas J. Stanley', 'William D. Danko']</td>\n",
       "      <td>The incredible national bestseller that is cha...</td>\n",
       "      <td>9.780670e+12</td>\n",
       "      <td>The Millionaire Next Door: The Surprising Secr...</td>\n",
       "      <td>['Economics', 'Finance', 'Nonfiction', 'Busine...</td>\n",
       "      <td>the    incredible    national    bestseller ...</td>\n",
       "    </tr>\n",
       "    <tr>\n",
       "      <th>3</th>\n",
       "      <td>3</td>\n",
       "      <td>793</td>\n",
       "      <td>2318</td>\n",
       "      <td>3</td>\n",
       "      <td>24880</td>\n",
       "      <td>195</td>\n",
       "      <td>998.0</td>\n",
       "      <td>671015206</td>\n",
       "      <td>9.780671e+12</td>\n",
       "      <td>The Millionaire Next Door: The Surprising Secr...</td>\n",
       "      <td>4.0</td>\n",
       "      <td>43937.0</td>\n",
       "      <td>['Thomas J. Stanley', 'William D. Danko']</td>\n",
       "      <td>The incredible national bestseller that is cha...</td>\n",
       "      <td>9.780670e+12</td>\n",
       "      <td>The Millionaire Next Door: The Surprising Secr...</td>\n",
       "      <td>['Economics', 'Finance', 'Nonfiction', 'Busine...</td>\n",
       "      <td>the    incredible    national    bestseller ...</td>\n",
       "    </tr>\n",
       "    <tr>\n",
       "      <th>4</th>\n",
       "      <td>4</td>\n",
       "      <td>190</td>\n",
       "      <td>2318</td>\n",
       "      <td>4</td>\n",
       "      <td>25621</td>\n",
       "      <td>278</td>\n",
       "      <td>998.0</td>\n",
       "      <td>671015206</td>\n",
       "      <td>9.780671e+12</td>\n",
       "      <td>The Millionaire Next Door: The Surprising Secr...</td>\n",
       "      <td>4.0</td>\n",
       "      <td>43937.0</td>\n",
       "      <td>['Thomas J. Stanley', 'William D. Danko']</td>\n",
       "      <td>The incredible national bestseller that is cha...</td>\n",
       "      <td>9.780670e+12</td>\n",
       "      <td>The Millionaire Next Door: The Surprising Secr...</td>\n",
       "      <td>['Economics', 'Finance', 'Nonfiction', 'Busine...</td>\n",
       "      <td>the    incredible    national    bestseller ...</td>\n",
       "    </tr>\n",
       "  </tbody>\n",
       "</table>\n",
       "</div>"
      ],
      "text/plain": [
       "   Unnamed: 0  user_id  book_id  rating  SortIndex1  SortIndex2  \\\n",
       "0           0        2     2318       3       38440          94   \n",
       "1           1      953     2318       5       10530         133   \n",
       "2           2      979     2318       2       43059         369   \n",
       "3           3      793     2318       3       24880         195   \n",
       "4           4      190     2318       4       25621         278   \n",
       "\n",
       "   goodreads_book_id       isbn        isbn13  \\\n",
       "0              998.0  671015206  9.780671e+12   \n",
       "1              998.0  671015206  9.780671e+12   \n",
       "2              998.0  671015206  9.780671e+12   \n",
       "3              998.0  671015206  9.780671e+12   \n",
       "4              998.0  671015206  9.780671e+12   \n",
       "\n",
       "                                      original_title  average_rating  \\\n",
       "0  The Millionaire Next Door: The Surprising Secr...             4.0   \n",
       "1  The Millionaire Next Door: The Surprising Secr...             4.0   \n",
       "2  The Millionaire Next Door: The Surprising Secr...             4.0   \n",
       "3  The Millionaire Next Door: The Surprising Secr...             4.0   \n",
       "4  The Millionaire Next Door: The Surprising Secr...             4.0   \n",
       "\n",
       "   ratings_count                               book_authors  \\\n",
       "0        43937.0  ['Thomas J. Stanley', 'William D. Danko']   \n",
       "1        43937.0  ['Thomas J. Stanley', 'William D. Danko']   \n",
       "2        43937.0  ['Thomas J. Stanley', 'William D. Danko']   \n",
       "3        43937.0  ['Thomas J. Stanley', 'William D. Danko']   \n",
       "4        43937.0  ['Thomas J. Stanley', 'William D. Danko']   \n",
       "\n",
       "                                           book_desc     book_isbn  \\\n",
       "0  The incredible national bestseller that is cha...  9.780670e+12   \n",
       "1  The incredible national bestseller that is cha...  9.780670e+12   \n",
       "2  The incredible national bestseller that is cha...  9.780670e+12   \n",
       "3  The incredible national bestseller that is cha...  9.780670e+12   \n",
       "4  The incredible national bestseller that is cha...  9.780670e+12   \n",
       "\n",
       "                                          book_title  \\\n",
       "0  The Millionaire Next Door: The Surprising Secr...   \n",
       "1  The Millionaire Next Door: The Surprising Secr...   \n",
       "2  The Millionaire Next Door: The Surprising Secr...   \n",
       "3  The Millionaire Next Door: The Surprising Secr...   \n",
       "4  The Millionaire Next Door: The Surprising Secr...   \n",
       "\n",
       "                                              genres  \\\n",
       "0  ['Economics', 'Finance', 'Nonfiction', 'Busine...   \n",
       "1  ['Economics', 'Finance', 'Nonfiction', 'Busine...   \n",
       "2  ['Economics', 'Finance', 'Nonfiction', 'Busine...   \n",
       "3  ['Economics', 'Finance', 'Nonfiction', 'Busine...   \n",
       "4  ['Economics', 'Finance', 'Nonfiction', 'Busine...   \n",
       "\n",
       "                                       book_desc_tok  \n",
       "0    the    incredible    national    bestseller ...  \n",
       "1    the    incredible    national    bestseller ...  \n",
       "2    the    incredible    national    bestseller ...  \n",
       "3    the    incredible    national    bestseller ...  \n",
       "4    the    incredible    national    bestseller ...  "
      ]
     },
     "execution_count": 9,
     "metadata": {},
     "output_type": "execute_result"
    }
   ],
   "source": [
    "complete_df.head()"
   ]
  },
  {
   "cell_type": "code",
   "execution_count": 10,
   "id": "3fed7f95",
   "metadata": {
    "scrolled": true
   },
   "outputs": [
    {
     "data": {
      "text/plain": [
       "<AxesSubplot:ylabel='Frequency'>"
      ]
     },
     "execution_count": 10,
     "metadata": {},
     "output_type": "execute_result"
    },
    {
     "data": {
      "image/png": "[encoded data removed]",
      "text/plain": [
       "<Figure size 432x288 with 1 Axes>"
      ]
     },
     "metadata": {
      "needs_background": "light"
     },
     "output_type": "display_data"
    }
   ],
   "source": [
    "complete_df['rating'].plot(kind='hist')"
   ]
  },
  {
   "cell_type": "markdown",
   "id": "7272f0be",
   "metadata": {},
   "source": [
    "## On average, how many books does each person rate?"
   ]
  },
  {
   "cell_type": "markdown",
   "id": "877b03c5",
   "metadata": {},
   "source": [
    "How many unique users are there?"
   ]
  },
  {
   "cell_type": "code",
   "execution_count": 13,
   "id": "184c4cc1",
   "metadata": {},
   "outputs": [
    {
     "data": {
      "text/plain": [
       "53417"
      ]
     },
     "execution_count": 13,
     "metadata": {},
     "output_type": "execute_result"
    }
   ],
   "source": [
    "len(complete_df['user_id'].unique())"
   ]
  },
  {
   "cell_type": "markdown",
   "id": "3482ec1f",
   "metadata": {},
   "source": [
    "Average number of books rated by each person = (total number of ratings)/(total number of unique users)"
   ]
  },
  {
   "cell_type": "code",
   "execution_count": 14,
   "id": "1cd7ce38",
   "metadata": {},
   "outputs": [
    {
     "data": {
      "text/plain": [
       "66.27749592826254"
      ]
     },
     "execution_count": 14,
     "metadata": {},
     "output_type": "execute_result"
    }
   ],
   "source": [
    "complete_df.shape[0]/len((complete_df['user_id'].unique()))"
   ]
  },
  {
   "cell_type": "markdown",
   "id": "186fb792",
   "metadata": {},
   "source": [
    "Therefore, average number of books rated by each person $\\approx$ 66.5"
   ]
  },
  {
   "cell_type": "markdown",
   "id": "dc5a86f5",
   "metadata": {},
   "source": [
    "## A plot of number of ratings by user"
   ]
  },
  {
   "cell_type": "code",
   "execution_count": 15,
   "id": "f9a1d2a4",
   "metadata": {
    "scrolled": true
   },
   "outputs": [
    {
     "data": {
      "text/plain": [
       "<AxesSubplot:ylabel='Frequency'>"
      ]
     },
     "execution_count": 15,
     "metadata": {},
     "output_type": "execute_result"
    },
    {
     "data": {
      "image/png": "[encoded data removed]",
      "text/plain": [
       "<Figure size 432x288 with 1 Axes>"
      ]
     },
     "metadata": {
      "needs_background": "light"
     },
     "output_type": "display_data"
    }
   ],
   "source": [
    "complete_df.groupby('user_id')['rating'].count().plot(kind='hist')"
   ]
  },
  {
   "cell_type": "code",
   "execution_count": 16,
   "id": "837d0719-b04d-41b7-9c92-779c9b5f8e66",
   "metadata": {},
   "outputs": [
    {
     "data": {
      "text/plain": [
       "1"
      ]
     },
     "execution_count": 16,
     "metadata": {},
     "output_type": "execute_result"
    }
   ],
   "source": [
    "#Min number of ratings by users:\n",
    "complete_df.groupby('user_id')['rating'].count().min()"
   ]
  },
  {
   "cell_type": "code",
   "execution_count": 17,
   "id": "83aef1a1",
   "metadata": {},
   "outputs": [
    {
     "data": {
      "text/plain": [
       "153"
      ]
     },
     "execution_count": 17,
     "metadata": {},
     "output_type": "execute_result"
    }
   ],
   "source": [
    "#Max number of ratings by users:\n",
    "complete_df.groupby('user_id')['rating'].count().max()"
   ]
  },
  {
   "cell_type": "code",
   "execution_count": 18,
   "id": "6e955d9a",
   "metadata": {},
   "outputs": [
    {
     "data": {
      "text/plain": [
       "66.0"
      ]
     },
     "execution_count": 18,
     "metadata": {},
     "output_type": "execute_result"
    }
   ],
   "source": [
    "#Median number of ratings by users:\n",
    "complete_df.groupby('user_id')['rating'].count().median()"
   ]
  },
  {
   "cell_type": "code",
   "execution_count": 19,
   "id": "115fd15c",
   "metadata": {},
   "outputs": [
    {
     "data": {
      "text/plain": [
       "19.881158862584222"
      ]
     },
     "execution_count": 19,
     "metadata": {},
     "output_type": "execute_result"
    }
   ],
   "source": [
    "#Standard deviation of number of ratings by users:\n",
    "complete_df.groupby('user_id')['rating'].count().std()"
   ]
  },
  {
   "cell_type": "markdown",
   "id": "9d3bff1d",
   "metadata": {},
   "source": [
    "## On average, how many ratings does each book have?"
   ]
  },
  {
   "cell_type": "markdown",
   "id": "db651390",
   "metadata": {},
   "source": [
    "How many unique books are there?"
   ]
  },
  {
   "cell_type": "code",
   "execution_count": 20,
   "id": "dfe0df03",
   "metadata": {},
   "outputs": [
    {
     "data": {
      "text/plain": [
       "4442"
      ]
     },
     "execution_count": 20,
     "metadata": {},
     "output_type": "execute_result"
    }
   ],
   "source": [
    "len(complete_df['book_id'].unique())"
   ]
  },
  {
   "cell_type": "markdown",
   "id": "344f4463",
   "metadata": {},
   "source": [
    "Average number of ratings associated with a book = (total number of ratings)/(total number of books)"
   ]
  },
  {
   "cell_type": "code",
   "execution_count": 21,
   "id": "2d36747d",
   "metadata": {},
   "outputs": [
    {
     "data": {
      "text/plain": [
       "797.0159837910851"
      ]
     },
     "execution_count": 21,
     "metadata": {},
     "output_type": "execute_result"
    }
   ],
   "source": [
    "complete_df.shape[0]/len(complete_df['book_id'].unique())"
   ]
  },
  {
   "cell_type": "markdown",
   "id": "29baee71",
   "metadata": {},
   "source": [
    "Therefore, average number of books rated by each person $\\approx$ 1546.25"
   ]
  },
  {
   "cell_type": "markdown",
   "id": "51ef62b6",
   "metadata": {},
   "source": [
    "## A plot of number of ratings by book"
   ]
  },
  {
   "cell_type": "code",
   "execution_count": 22,
   "id": "27330ef5",
   "metadata": {},
   "outputs": [
    {
     "data": {
      "text/plain": [
       "<AxesSubplot:ylabel='Frequency'>"
      ]
     },
     "execution_count": 22,
     "metadata": {},
     "output_type": "execute_result"
    },
    {
     "data": {
      "image/png": "[encoded data removed]",
      "text/plain": [
       "<Figure size 432x288 with 1 Axes>"
      ]
     },
     "metadata": {
      "needs_background": "light"
     },
     "output_type": "display_data"
    }
   ],
   "source": [
    "complete_df.groupby('book_id')['rating'].count().plot(kind='hist', bins=25)"
   ]
  },
  {
   "cell_type": "markdown",
   "id": "43be3156",
   "metadata": {},
   "source": [
    "### Zooming in.."
   ]
  },
  {
   "cell_type": "code",
   "execution_count": 23,
   "id": "72b5cf04",
   "metadata": {},
   "outputs": [],
   "source": [
    "ratings_freq_df = complete_df.groupby('book_id')['rating'].count()"
   ]
  },
  {
   "cell_type": "code",
   "execution_count": 24,
   "id": "4fc12a0f",
   "metadata": {},
   "outputs": [
    {
     "data": {
      "text/plain": [
       "book_id\n",
       "3       16931\n",
       "4       19088\n",
       "5       16604\n",
       "6       11264\n",
       "8       14472\n",
       "        ...  \n",
       "9991      122\n",
       "9992      112\n",
       "9996      141\n",
       "9998      102\n",
       "9999      130\n",
       "Name: rating, Length: 4442, dtype: int64"
      ]
     },
     "execution_count": 24,
     "metadata": {},
     "output_type": "execute_result"
    }
   ],
   "source": [
    "ratings_freq_df"
   ]
  },
  {
   "cell_type": "code",
   "execution_count": 25,
   "id": "79aec284",
   "metadata": {},
   "outputs": [
    {
     "data": {
      "text/plain": [
       "<AxesSubplot:ylabel='Frequency'>"
      ]
     },
     "execution_count": 25,
     "metadata": {},
     "output_type": "execute_result"
    },
    {
     "data": {
      "image/png": "[encoded data removed]",
      "text/plain": [
       "<Figure size 432x288 with 1 Axes>"
      ]
     },
     "metadata": {
      "needs_background": "light"
     },
     "output_type": "display_data"
    }
   ],
   "source": [
    "ratings_freq_df[ratings_freq_df<40000].plot(kind='hist')"
   ]
  },
  {
   "cell_type": "code",
   "execution_count": 26,
   "id": "1a5b87e6",
   "metadata": {},
   "outputs": [
    {
     "data": {
      "text/plain": [
       "<AxesSubplot:ylabel='Frequency'>"
      ]
     },
     "execution_count": 26,
     "metadata": {},
     "output_type": "execute_result"
    },
    {
     "data": {
      "image/png": "[encoded data removed]",
      "text/plain": [
       "<Figure size 432x288 with 1 Axes>"
      ]
     },
     "metadata": {
      "needs_background": "light"
     },
     "output_type": "display_data"
    }
   ],
   "source": [
    "ratings_freq_df[ratings_freq_df<=25000].plot(kind='hist', bins=20)"
   ]
  },
  {
   "cell_type": "code",
   "execution_count": 27,
   "id": "187b5083",
   "metadata": {},
   "outputs": [
    {
     "data": {
      "text/plain": [
       "<AxesSubplot:ylabel='Frequency'>"
      ]
     },
     "execution_count": 27,
     "metadata": {},
     "output_type": "execute_result"
    },
    {
     "data": {
      "image/png": "[encoded data removed]",
      "text/plain": [
       "<Figure size 432x288 with 1 Axes>"
      ]
     },
     "metadata": {
      "needs_background": "light"
     },
     "output_type": "display_data"
    }
   ],
   "source": [
    "ratings_freq_df[ratings_freq_df<=10000].plot(kind='hist', bins=20)"
   ]
  },
  {
   "cell_type": "code",
   "execution_count": 28,
   "id": "6e37820c",
   "metadata": {},
   "outputs": [
    {
     "data": {
      "text/plain": [
       "<AxesSubplot:ylabel='Frequency'>"
      ]
     },
     "execution_count": 28,
     "metadata": {},
     "output_type": "execute_result"
    },
    {
     "data": {
      "image/png": "[encoded data removed]",
      "text/plain": [
       "<Figure size 432x288 with 1 Axes>"
      ]
     },
     "metadata": {
      "needs_background": "light"
     },
     "output_type": "display_data"
    }
   ],
   "source": [
    "ratings_freq_df[ratings_freq_df<=2000].plot(kind='hist', bins=20)"
   ]
  },
  {
   "cell_type": "markdown",
   "id": "754b949b",
   "metadata": {},
   "source": [
    "The distribution is very skewed."
   ]
  },
  {
   "cell_type": "code",
   "execution_count": 29,
   "id": "a52b2d16",
   "metadata": {},
   "outputs": [
    {
     "data": {
      "text/plain": [
       "4072"
      ]
     },
     "execution_count": 29,
     "metadata": {},
     "output_type": "execute_result"
    }
   ],
   "source": [
    "len(ratings_freq_df[ratings_freq_df<=2000])"
   ]
  },
  {
   "cell_type": "markdown",
   "id": "cce9894a",
   "metadata": {},
   "source": [
    "### So 4072 of 4439 books have ratings less than 2000 in count."
   ]
  },
  {
   "cell_type": "code",
   "execution_count": 30,
   "id": "6fcc77d5",
   "metadata": {},
   "outputs": [
    {
     "data": {
      "text/plain": [
       "60"
      ]
     },
     "execution_count": 30,
     "metadata": {},
     "output_type": "execute_result"
    }
   ],
   "source": [
    "#Min number of ratings by users:\n",
    "complete_df.groupby('book_id')['rating'].count().min()"
   ]
  },
  {
   "cell_type": "code",
   "execution_count": 31,
   "id": "7a69181a",
   "metadata": {},
   "outputs": [
    {
     "data": {
      "text/plain": [
       "19088"
      ]
     },
     "execution_count": 31,
     "metadata": {},
     "output_type": "execute_result"
    }
   ],
   "source": [
    "#Max number of ratings by users:\n",
    "complete_df.groupby('book_id')['rating'].count().max()"
   ]
  },
  {
   "cell_type": "code",
   "execution_count": 32,
   "id": "f88350e2",
   "metadata": {},
   "outputs": [
    {
     "data": {
      "text/plain": [
       "328.0"
      ]
     },
     "execution_count": 32,
     "metadata": {},
     "output_type": "execute_result"
    }
   ],
   "source": [
    "#Median number of ratings by users:\n",
    "complete_df.groupby('book_id')['rating'].count().median()"
   ]
  },
  {
   "cell_type": "code",
   "execution_count": 33,
   "id": "f88944d7",
   "metadata": {},
   "outputs": [
    {
     "data": {
      "text/plain": [
       "1518.8556771002775"
      ]
     },
     "execution_count": 33,
     "metadata": {},
     "output_type": "execute_result"
    }
   ],
   "source": [
    "#Standard deviation of number of ratings by users:\n",
    "complete_df.groupby('book_id')['rating'].count().std()"
   ]
  },
  {
   "cell_type": "markdown",
   "id": "8ddbf84a",
   "metadata": {},
   "source": [
    "Thus, **minimum number of ratings that a book has = 60**\n",
    "\n",
    "\n",
    "**Maximum number of ratings that a book has = 19088**\n",
    "\n",
    "**Median number of ratings that a book has = 328**\n",
    "\n",
    "**Standard deviation of ratings that a book has $\\approx$ 1518**"
   ]
  },
  {
   "cell_type": "code",
   "execution_count": null,
   "id": "2cdcfaef",
   "metadata": {},
   "outputs": [],
   "source": []
  }
 ],
 "metadata": {
  "kernelspec": {
   "display_name": "Python 3 (ipykernel)",
   "language": "python",
   "name": "python3"
  },
  "language_info": {
   "codemirror_mode": {
    "name": "ipython",
    "version": 3
   },
   "file_extension": ".py",
   "mimetype": "text/x-python",
   "name": "python",
   "nbconvert_exporter": "python",
   "pygments_lexer": "ipython3",
   "version": "3.9.7"
  }
 },
 "nbformat": 4,
 "nbformat_minor": 5
}
