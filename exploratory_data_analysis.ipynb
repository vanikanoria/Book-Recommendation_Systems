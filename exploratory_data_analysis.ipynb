{
 "cells": [
  {
   "cell_type": "markdown",
   "id": "e1bed2fa",
   "metadata": {},
   "source": [
    "# Exploratory Data Analysis of Datasets"
   ]
  },
  {
   "cell_type": "code",
   "execution_count": 1,
   "id": "7ef0d62b",
   "metadata": {},
   "outputs": [],
   "source": [
    "import gensim\n",
    "import logging\n",
    "import time\n",
    "import pandas as pd\n",
    "import matplotlib.pyplot as plt\n",
    "import numpy as np\n",
    "import requests\n",
    "import random"
   ]
  },
  {
   "cell_type": "code",
   "execution_count": 4,
   "id": "a1c384a6-ecfa-4970-9bfb-f60aa6fac788",
   "metadata": {},
   "outputs": [],
   "source": [
    "unique_books_df = pd.read_csv('unique_books.csv')\n",
    "#this includes only information about books and not users"
   ]
  },
  {
   "cell_type": "code",
   "execution_count": 5,
   "id": "ff161747",
   "metadata": {},
   "outputs": [
    {
     "data": {
      "text/plain": [
       "(4327, 18)"
      ]
     },
     "execution_count": 5,
     "metadata": {},
     "output_type": "execute_result"
    }
   ],
   "source": [
    "unique_books_df.shape"
   ]
  },
  {
   "cell_type": "code",
   "execution_count": 6,
   "id": "dc686a7b",
   "metadata": {},
   "outputs": [
    {
     "data": {
      "text/html": [
       "<div>\n",
       "<style scoped>\n",
       "    .dataframe tbody tr th:only-of-type {\n",
       "        vertical-align: middle;\n",
       "    }\n",
       "\n",
       "    .dataframe tbody tr th {\n",
       "        vertical-align: top;\n",
       "    }\n",
       "\n",
       "    .dataframe thead th {\n",
       "        text-align: right;\n",
       "    }\n",
       "</style>\n",
       "<table border=\"1\" class=\"dataframe\">\n",
       "  <thead>\n",
       "    <tr style=\"text-align: right;\">\n",
       "      <th></th>\n",
       "      <th>Unnamed: 0</th>\n",
       "      <th>user_id</th>\n",
       "      <th>book_id</th>\n",
       "      <th>rating</th>\n",
       "      <th>SortIndex1</th>\n",
       "      <th>SortIndex2</th>\n",
       "      <th>goodreads_book_id</th>\n",
       "      <th>isbn</th>\n",
       "      <th>isbn13</th>\n",
       "      <th>original_title</th>\n",
       "      <th>average_rating</th>\n",
       "      <th>ratings_count</th>\n",
       "      <th>book_authors</th>\n",
       "      <th>book_desc</th>\n",
       "      <th>book_isbn</th>\n",
       "      <th>book_title</th>\n",
       "      <th>genres</th>\n",
       "      <th>book_desc_tok</th>\n",
       "    </tr>\n",
       "  </thead>\n",
       "  <tbody>\n",
       "    <tr>\n",
       "      <th>0</th>\n",
       "      <td>0</td>\n",
       "      <td>2</td>\n",
       "      <td>2318</td>\n",
       "      <td>3</td>\n",
       "      <td>41929</td>\n",
       "      <td>398</td>\n",
       "      <td>998.0</td>\n",
       "      <td>671015206</td>\n",
       "      <td>9.780671e+12</td>\n",
       "      <td>The Millionaire Next Door: The Surprising Secr...</td>\n",
       "      <td>4.00</td>\n",
       "      <td>43937.0</td>\n",
       "      <td>['Thomas J. Stanley', 'William D. Danko']</td>\n",
       "      <td>The incredible national bestseller that is cha...</td>\n",
       "      <td>9.780670e+12</td>\n",
       "      <td>The Millionaire Next Door: The Surprising Secr...</td>\n",
       "      <td>['Economics', 'Finance', 'Nonfiction', 'Busine...</td>\n",
       "      <td>the    incredible    national    bestseller ...</td>\n",
       "    </tr>\n",
       "    <tr>\n",
       "      <th>1</th>\n",
       "      <td>389</td>\n",
       "      <td>2</td>\n",
       "      <td>26</td>\n",
       "      <td>4</td>\n",
       "      <td>41929</td>\n",
       "      <td>227</td>\n",
       "      <td>968.0</td>\n",
       "      <td>307277674</td>\n",
       "      <td>9.780307e+12</td>\n",
       "      <td>The Da Vinci Code</td>\n",
       "      <td>3.79</td>\n",
       "      <td>1447148.0</td>\n",
       "      <td>['Dan Brown']</td>\n",
       "      <td>An ingenious code hidden in the works of Leona...</td>\n",
       "      <td>9.780310e+12</td>\n",
       "      <td>The Da Vinci Code</td>\n",
       "      <td>['Fiction', 'Mystery', 'Thriller']</td>\n",
       "      <td>an    ingenious    code    hidden    in    t...</td>\n",
       "    </tr>\n",
       "    <tr>\n",
       "      <th>2</th>\n",
       "      <td>13461</td>\n",
       "      <td>2</td>\n",
       "      <td>315</td>\n",
       "      <td>3</td>\n",
       "      <td>41929</td>\n",
       "      <td>193</td>\n",
       "      <td>4894.0</td>\n",
       "      <td>91883768</td>\n",
       "      <td>9.780092e+12</td>\n",
       "      <td>Who Moved My Cheese?</td>\n",
       "      <td>3.74</td>\n",
       "      <td>237272.0</td>\n",
       "      <td>['Spencer Johnson', 'Kenneth H. Blanchard']</td>\n",
       "      <td>Written by Spencer Johnson, coauthor of The On...</td>\n",
       "      <td>9.780090e+12</td>\n",
       "      <td>Who Moved My Cheese?</td>\n",
       "      <td>['Business', 'Self Help', 'Nonfiction', 'Psych...</td>\n",
       "      <td>written    by    spencer    johnson         ...</td>\n",
       "    </tr>\n",
       "    <tr>\n",
       "      <th>3</th>\n",
       "      <td>15287</td>\n",
       "      <td>2</td>\n",
       "      <td>33</td>\n",
       "      <td>4</td>\n",
       "      <td>41929</td>\n",
       "      <td>98</td>\n",
       "      <td>930.0</td>\n",
       "      <td>739326228</td>\n",
       "      <td>9.780739e+12</td>\n",
       "      <td>Memoirs of a Geisha</td>\n",
       "      <td>4.08</td>\n",
       "      <td>1300209.0</td>\n",
       "      <td>['Arthur Golden']</td>\n",
       "      <td>A literary sensation and runaway bestseller, t...</td>\n",
       "      <td>9.780740e+12</td>\n",
       "      <td>Memoirs of a Geisha</td>\n",
       "      <td>['Fiction', 'Historical', 'Historical Fiction'...</td>\n",
       "      <td>a    literary    sensation    and    runaway...</td>\n",
       "    </tr>\n",
       "    <tr>\n",
       "      <th>4</th>\n",
       "      <td>49199</td>\n",
       "      <td>2</td>\n",
       "      <td>301</td>\n",
       "      <td>5</td>\n",
       "      <td>41929</td>\n",
       "      <td>194</td>\n",
       "      <td>4900.0</td>\n",
       "      <td>1892295490</td>\n",
       "      <td>9.781892e+12</td>\n",
       "      <td>Heart of Darkness</td>\n",
       "      <td>3.42</td>\n",
       "      <td>255576.0</td>\n",
       "      <td>['Joseph Conrad']</td>\n",
       "      <td>Dark allegory describes the narrator's journey...</td>\n",
       "      <td>9.781890e+12</td>\n",
       "      <td>Heart of Darkness</td>\n",
       "      <td>['Classics', 'Fiction', 'Literature', 'Cultura...</td>\n",
       "      <td>dark    allegory    describes    the    narr...</td>\n",
       "    </tr>\n",
       "  </tbody>\n",
       "</table>\n",
       "</div>"
      ],
      "text/plain": [
       "   Unnamed: 0  user_id  book_id  rating  SortIndex1  SortIndex2  \\\n",
       "0           0        2     2318       3       41929         398   \n",
       "1         389        2       26       4       41929         227   \n",
       "2       13461        2      315       3       41929         193   \n",
       "3       15287        2       33       4       41929          98   \n",
       "4       49199        2      301       5       41929         194   \n",
       "\n",
       "   goodreads_book_id        isbn        isbn13  \\\n",
       "0              998.0   671015206  9.780671e+12   \n",
       "1              968.0   307277674  9.780307e+12   \n",
       "2             4894.0    91883768  9.780092e+12   \n",
       "3              930.0   739326228  9.780739e+12   \n",
       "4             4900.0  1892295490  9.781892e+12   \n",
       "\n",
       "                                      original_title  average_rating  \\\n",
       "0  The Millionaire Next Door: The Surprising Secr...            4.00   \n",
       "1                                  The Da Vinci Code            3.79   \n",
       "2                               Who Moved My Cheese?            3.74   \n",
       "3                                Memoirs of a Geisha            4.08   \n",
       "4                                  Heart of Darkness            3.42   \n",
       "\n",
       "   ratings_count                                 book_authors  \\\n",
       "0        43937.0    ['Thomas J. Stanley', 'William D. Danko']   \n",
       "1      1447148.0                                ['Dan Brown']   \n",
       "2       237272.0  ['Spencer Johnson', 'Kenneth H. Blanchard']   \n",
       "3      1300209.0                            ['Arthur Golden']   \n",
       "4       255576.0                            ['Joseph Conrad']   \n",
       "\n",
       "                                           book_desc     book_isbn  \\\n",
       "0  The incredible national bestseller that is cha...  9.780670e+12   \n",
       "1  An ingenious code hidden in the works of Leona...  9.780310e+12   \n",
       "2  Written by Spencer Johnson, coauthor of The On...  9.780090e+12   \n",
       "3  A literary sensation and runaway bestseller, t...  9.780740e+12   \n",
       "4  Dark allegory describes the narrator's journey...  9.781890e+12   \n",
       "\n",
       "                                          book_title  \\\n",
       "0  The Millionaire Next Door: The Surprising Secr...   \n",
       "1                                  The Da Vinci Code   \n",
       "2                               Who Moved My Cheese?   \n",
       "3                                Memoirs of a Geisha   \n",
       "4                                  Heart of Darkness   \n",
       "\n",
       "                                              genres  \\\n",
       "0  ['Economics', 'Finance', 'Nonfiction', 'Busine...   \n",
       "1                 ['Fiction', 'Mystery', 'Thriller']   \n",
       "2  ['Business', 'Self Help', 'Nonfiction', 'Psych...   \n",
       "3  ['Fiction', 'Historical', 'Historical Fiction'...   \n",
       "4  ['Classics', 'Fiction', 'Literature', 'Cultura...   \n",
       "\n",
       "                                       book_desc_tok  \n",
       "0    the    incredible    national    bestseller ...  \n",
       "1    an    ingenious    code    hidden    in    t...  \n",
       "2    written    by    spencer    johnson         ...  \n",
       "3    a    literary    sensation    and    runaway...  \n",
       "4    dark    allegory    describes    the    narr...  "
      ]
     },
     "execution_count": 6,
     "metadata": {},
     "output_type": "execute_result"
    }
   ],
   "source": [
    "unique_books_df.head()"
   ]
  },
  {
   "cell_type": "code",
   "execution_count": 3,
   "id": "9f3e0b3a",
   "metadata": {},
   "outputs": [
    {
     "name": "stderr",
     "output_type": "stream",
     "text": [
      "/home/vkanoria/anaconda3/lib/python3.9/site-packages/IPython/core/interactiveshell.py:3444: DtypeWarning: Columns (7) have mixed types.Specify dtype option on import or set low_memory=False.\n",
      "  exec(code_obj, self.user_global_ns, self.user_ns)\n"
     ]
    }
   ],
   "source": [
    "complete_df = pd.read_csv('final_books_dataset_lang_clean.csv')\n",
    "#this includes user and ratings data for the books in the unique dataset above"
   ]
  },
  {
   "cell_type": "code",
   "execution_count": 8,
   "id": "3420c0f2",
   "metadata": {},
   "outputs": [
    {
     "data": {
      "text/plain": [
       "(6863793, 18)"
      ]
     },
     "execution_count": 8,
     "metadata": {},
     "output_type": "execute_result"
    }
   ],
   "source": [
    "complete_df.shape"
   ]
  },
  {
   "cell_type": "code",
   "execution_count": 7,
   "id": "5cf4fd0c",
   "metadata": {
    "scrolled": true
   },
   "outputs": [
    {
     "data": {
      "text/html": [
       "<div>\n",
       "<style scoped>\n",
       "    .dataframe tbody tr th:only-of-type {\n",
       "        vertical-align: middle;\n",
       "    }\n",
       "\n",
       "    .dataframe tbody tr th {\n",
       "        vertical-align: top;\n",
       "    }\n",
       "\n",
       "    .dataframe thead th {\n",
       "        text-align: right;\n",
       "    }\n",
       "</style>\n",
       "<table border=\"1\" class=\"dataframe\">\n",
       "  <thead>\n",
       "    <tr style=\"text-align: right;\">\n",
       "      <th></th>\n",
       "      <th>Unnamed: 0</th>\n",
       "      <th>user_id</th>\n",
       "      <th>book_id</th>\n",
       "      <th>rating</th>\n",
       "      <th>SortIndex1</th>\n",
       "      <th>SortIndex2</th>\n",
       "      <th>goodreads_book_id</th>\n",
       "      <th>isbn</th>\n",
       "      <th>isbn13</th>\n",
       "      <th>original_title</th>\n",
       "      <th>average_rating</th>\n",
       "      <th>ratings_count</th>\n",
       "      <th>book_authors</th>\n",
       "      <th>book_desc</th>\n",
       "      <th>book_isbn</th>\n",
       "      <th>book_title</th>\n",
       "      <th>genres</th>\n",
       "      <th>book_desc_tok</th>\n",
       "    </tr>\n",
       "  </thead>\n",
       "  <tbody>\n",
       "    <tr>\n",
       "      <th>0</th>\n",
       "      <td>0</td>\n",
       "      <td>2</td>\n",
       "      <td>2318</td>\n",
       "      <td>3</td>\n",
       "      <td>41929</td>\n",
       "      <td>398</td>\n",
       "      <td>998.0</td>\n",
       "      <td>671015206</td>\n",
       "      <td>9.780671e+12</td>\n",
       "      <td>The Millionaire Next Door: The Surprising Secr...</td>\n",
       "      <td>4.0</td>\n",
       "      <td>43937.0</td>\n",
       "      <td>['Thomas J. Stanley', 'William D. Danko']</td>\n",
       "      <td>The incredible national bestseller that is cha...</td>\n",
       "      <td>9.780670e+12</td>\n",
       "      <td>The Millionaire Next Door: The Surprising Secr...</td>\n",
       "      <td>['Economics', 'Finance', 'Nonfiction', 'Busine...</td>\n",
       "      <td>the    incredible    national    bestseller ...</td>\n",
       "    </tr>\n",
       "    <tr>\n",
       "      <th>1</th>\n",
       "      <td>1</td>\n",
       "      <td>953</td>\n",
       "      <td>2318</td>\n",
       "      <td>5</td>\n",
       "      <td>31784</td>\n",
       "      <td>108</td>\n",
       "      <td>998.0</td>\n",
       "      <td>671015206</td>\n",
       "      <td>9.780671e+12</td>\n",
       "      <td>The Millionaire Next Door: The Surprising Secr...</td>\n",
       "      <td>4.0</td>\n",
       "      <td>43937.0</td>\n",
       "      <td>['Thomas J. Stanley', 'William D. Danko']</td>\n",
       "      <td>The incredible national bestseller that is cha...</td>\n",
       "      <td>9.780670e+12</td>\n",
       "      <td>The Millionaire Next Door: The Surprising Secr...</td>\n",
       "      <td>['Economics', 'Finance', 'Nonfiction', 'Busine...</td>\n",
       "      <td>the    incredible    national    bestseller ...</td>\n",
       "    </tr>\n",
       "    <tr>\n",
       "      <th>2</th>\n",
       "      <td>2</td>\n",
       "      <td>979</td>\n",
       "      <td>2318</td>\n",
       "      <td>2</td>\n",
       "      <td>47245</td>\n",
       "      <td>187</td>\n",
       "      <td>998.0</td>\n",
       "      <td>671015206</td>\n",
       "      <td>9.780671e+12</td>\n",
       "      <td>The Millionaire Next Door: The Surprising Secr...</td>\n",
       "      <td>4.0</td>\n",
       "      <td>43937.0</td>\n",
       "      <td>['Thomas J. Stanley', 'William D. Danko']</td>\n",
       "      <td>The incredible national bestseller that is cha...</td>\n",
       "      <td>9.780670e+12</td>\n",
       "      <td>The Millionaire Next Door: The Surprising Secr...</td>\n",
       "      <td>['Economics', 'Finance', 'Nonfiction', 'Busine...</td>\n",
       "      <td>the    incredible    national    bestseller ...</td>\n",
       "    </tr>\n",
       "    <tr>\n",
       "      <th>3</th>\n",
       "      <td>3</td>\n",
       "      <td>793</td>\n",
       "      <td>2318</td>\n",
       "      <td>3</td>\n",
       "      <td>27030</td>\n",
       "      <td>58</td>\n",
       "      <td>998.0</td>\n",
       "      <td>671015206</td>\n",
       "      <td>9.780671e+12</td>\n",
       "      <td>The Millionaire Next Door: The Surprising Secr...</td>\n",
       "      <td>4.0</td>\n",
       "      <td>43937.0</td>\n",
       "      <td>['Thomas J. Stanley', 'William D. Danko']</td>\n",
       "      <td>The incredible national bestseller that is cha...</td>\n",
       "      <td>9.780670e+12</td>\n",
       "      <td>The Millionaire Next Door: The Surprising Secr...</td>\n",
       "      <td>['Economics', 'Finance', 'Nonfiction', 'Busine...</td>\n",
       "      <td>the    incredible    national    bestseller ...</td>\n",
       "    </tr>\n",
       "    <tr>\n",
       "      <th>4</th>\n",
       "      <td>4</td>\n",
       "      <td>190</td>\n",
       "      <td>2318</td>\n",
       "      <td>4</td>\n",
       "      <td>19863</td>\n",
       "      <td>454</td>\n",
       "      <td>998.0</td>\n",
       "      <td>671015206</td>\n",
       "      <td>9.780671e+12</td>\n",
       "      <td>The Millionaire Next Door: The Surprising Secr...</td>\n",
       "      <td>4.0</td>\n",
       "      <td>43937.0</td>\n",
       "      <td>['Thomas J. Stanley', 'William D. Danko']</td>\n",
       "      <td>The incredible national bestseller that is cha...</td>\n",
       "      <td>9.780670e+12</td>\n",
       "      <td>The Millionaire Next Door: The Surprising Secr...</td>\n",
       "      <td>['Economics', 'Finance', 'Nonfiction', 'Busine...</td>\n",
       "      <td>the    incredible    national    bestseller ...</td>\n",
       "    </tr>\n",
       "  </tbody>\n",
       "</table>\n",
       "</div>"
      ],
      "text/plain": [
       "   Unnamed: 0  user_id  book_id  rating  SortIndex1  SortIndex2  \\\n",
       "0           0        2     2318       3       41929         398   \n",
       "1           1      953     2318       5       31784         108   \n",
       "2           2      979     2318       2       47245         187   \n",
       "3           3      793     2318       3       27030          58   \n",
       "4           4      190     2318       4       19863         454   \n",
       "\n",
       "   goodreads_book_id       isbn        isbn13  \\\n",
       "0              998.0  671015206  9.780671e+12   \n",
       "1              998.0  671015206  9.780671e+12   \n",
       "2              998.0  671015206  9.780671e+12   \n",
       "3              998.0  671015206  9.780671e+12   \n",
       "4              998.0  671015206  9.780671e+12   \n",
       "\n",
       "                                      original_title  average_rating  \\\n",
       "0  The Millionaire Next Door: The Surprising Secr...             4.0   \n",
       "1  The Millionaire Next Door: The Surprising Secr...             4.0   \n",
       "2  The Millionaire Next Door: The Surprising Secr...             4.0   \n",
       "3  The Millionaire Next Door: The Surprising Secr...             4.0   \n",
       "4  The Millionaire Next Door: The Surprising Secr...             4.0   \n",
       "\n",
       "   ratings_count                               book_authors  \\\n",
       "0        43937.0  ['Thomas J. Stanley', 'William D. Danko']   \n",
       "1        43937.0  ['Thomas J. Stanley', 'William D. Danko']   \n",
       "2        43937.0  ['Thomas J. Stanley', 'William D. Danko']   \n",
       "3        43937.0  ['Thomas J. Stanley', 'William D. Danko']   \n",
       "4        43937.0  ['Thomas J. Stanley', 'William D. Danko']   \n",
       "\n",
       "                                           book_desc     book_isbn  \\\n",
       "0  The incredible national bestseller that is cha...  9.780670e+12   \n",
       "1  The incredible national bestseller that is cha...  9.780670e+12   \n",
       "2  The incredible national bestseller that is cha...  9.780670e+12   \n",
       "3  The incredible national bestseller that is cha...  9.780670e+12   \n",
       "4  The incredible national bestseller that is cha...  9.780670e+12   \n",
       "\n",
       "                                          book_title  \\\n",
       "0  The Millionaire Next Door: The Surprising Secr...   \n",
       "1  The Millionaire Next Door: The Surprising Secr...   \n",
       "2  The Millionaire Next Door: The Surprising Secr...   \n",
       "3  The Millionaire Next Door: The Surprising Secr...   \n",
       "4  The Millionaire Next Door: The Surprising Secr...   \n",
       "\n",
       "                                              genres  \\\n",
       "0  ['Economics', 'Finance', 'Nonfiction', 'Busine...   \n",
       "1  ['Economics', 'Finance', 'Nonfiction', 'Busine...   \n",
       "2  ['Economics', 'Finance', 'Nonfiction', 'Busine...   \n",
       "3  ['Economics', 'Finance', 'Nonfiction', 'Busine...   \n",
       "4  ['Economics', 'Finance', 'Nonfiction', 'Busine...   \n",
       "\n",
       "                                       book_desc_tok  \n",
       "0    the    incredible    national    bestseller ...  \n",
       "1    the    incredible    national    bestseller ...  \n",
       "2    the    incredible    national    bestseller ...  \n",
       "3    the    incredible    national    bestseller ...  \n",
       "4    the    incredible    national    bestseller ...  "
      ]
     },
     "execution_count": 7,
     "metadata": {},
     "output_type": "execute_result"
    }
   ],
   "source": [
    "complete_df.head()"
   ]
  },
  {
   "cell_type": "code",
   "execution_count": 9,
   "id": "fb3d630e",
   "metadata": {
    "scrolled": true
   },
   "outputs": [
    {
     "data": {
      "text/plain": [
       "<AxesSubplot:ylabel='Frequency'>"
      ]
     },
     "execution_count": 9,
     "metadata": {},
     "output_type": "execute_result"
    },
    {
     "data": {
      "image/png": "[encoded data removed]",
      "text/plain": [
       "<Figure size 432x288 with 1 Axes>"
      ]
     },
     "metadata": {
      "needs_background": "light"
     },
     "output_type": "display_data"
    }
   ],
   "source": [
    "complete_df['rating'].plot(kind='hist')"
   ]
  },
  {
   "cell_type": "markdown",
   "id": "f91057a2",
   "metadata": {},
   "source": [
    "## On average, how many books does each person rate?"
   ]
  },
  {
   "cell_type": "markdown",
   "id": "1100be75",
   "metadata": {},
   "source": [
    "How many unique users are there?"
   ]
  },
  {
   "cell_type": "code",
   "execution_count": 10,
   "id": "84b6141c",
   "metadata": {},
   "outputs": [
    {
     "data": {
      "text/plain": [
       "53417"
      ]
     },
     "execution_count": 10,
     "metadata": {},
     "output_type": "execute_result"
    }
   ],
   "source": [
    "len(complete_df['user_id'].unique())"
   ]
  },
  {
   "cell_type": "markdown",
   "id": "6da2877a",
   "metadata": {},
   "source": [
    "Average number of books rated by each person = (total number of ratings)/(total number of unique users)"
   ]
  },
  {
   "cell_type": "code",
   "execution_count": 11,
   "id": "9c0e5379",
   "metadata": {},
   "outputs": [
    {
     "data": {
      "text/plain": [
       "128.49454293576952"
      ]
     },
     "execution_count": 11,
     "metadata": {},
     "output_type": "execute_result"
    }
   ],
   "source": [
    "complete_df.shape[0]/len((complete_df['user_id'].unique()))"
   ]
  },
  {
   "cell_type": "markdown",
   "id": "6fba3cc4",
   "metadata": {},
   "source": [
    "Therefore, average number of books rated by each person $\\approx$ 128.5"
   ]
  },
  {
   "cell_type": "markdown",
   "id": "f04e9e0d",
   "metadata": {},
   "source": [
    "## A plot of number of ratings by user"
   ]
  },
  {
   "cell_type": "code",
   "execution_count": 15,
   "id": "f8e9e5ef",
   "metadata": {
    "scrolled": true
   },
   "outputs": [
    {
     "data": {
      "text/plain": [
       "<AxesSubplot:ylabel='Frequency'>"
      ]
     },
     "execution_count": 15,
     "metadata": {},
     "output_type": "execute_result"
    },
    {
     "data": {
      "image/png": "[encoded data removed]",
      "text/plain": [
       "<Figure size 432x288 with 1 Axes>"
      ]
     },
     "metadata": {
      "needs_background": "light"
     },
     "output_type": "display_data"
    }
   ],
   "source": [
    "complete_df.groupby('user_id')['rating'].count().plot(kind='hist')"
   ]
  },
  {
   "cell_type": "code",
   "execution_count": 16,
   "id": "837d0719-b04d-41b7-9c92-779c9b5f8e66",
   "metadata": {},
   "outputs": [
    {
     "data": {
      "text/plain": [
       "1"
      ]
     },
     "execution_count": 16,
     "metadata": {},
     "output_type": "execute_result"
    }
   ],
   "source": [
    "#Min number of ratings by users:\n",
    "complete_df.groupby('user_id')['rating'].count().min()"
   ]
  },
  {
   "cell_type": "code",
   "execution_count": 17,
   "id": "3e1bd952",
   "metadata": {},
   "outputs": [
    {
     "data": {
      "text/plain": [
       "350"
      ]
     },
     "execution_count": 17,
     "metadata": {},
     "output_type": "execute_result"
    }
   ],
   "source": [
    "#Max number of ratings by users:\n",
    "complete_df.groupby('user_id')['rating'].count().max()"
   ]
  },
  {
   "cell_type": "code",
   "execution_count": 18,
   "id": "4d3bf392",
   "metadata": {},
   "outputs": [
    {
     "data": {
      "text/plain": [
       "127.0"
      ]
     },
     "execution_count": 18,
     "metadata": {},
     "output_type": "execute_result"
    }
   ],
   "source": [
    "#Median number of ratings by users:\n",
    "complete_df.groupby('user_id')['rating'].count().median()"
   ]
  },
  {
   "cell_type": "code",
   "execution_count": 53,
   "id": "4a575c4b",
   "metadata": {},
   "outputs": [
    {
     "data": {
      "text/plain": [
       "44.872046270809065"
      ]
     },
     "execution_count": 53,
     "metadata": {},
     "output_type": "execute_result"
    }
   ],
   "source": [
    "#Standard deviation of number of ratings by users:\n",
    "complete_df.groupby('user_id')['rating'].count().std()"
   ]
  },
  {
   "cell_type": "markdown",
   "id": "46dc0fb1",
   "metadata": {},
   "source": [
    "## On average, how many ratings does each book have?"
   ]
  },
  {
   "cell_type": "markdown",
   "id": "95e4c959",
   "metadata": {},
   "source": [
    "How many unique books are there?"
   ]
  },
  {
   "cell_type": "code",
   "execution_count": 22,
   "id": "4c4f135f",
   "metadata": {},
   "outputs": [
    {
     "data": {
      "text/plain": [
       "4439"
      ]
     },
     "execution_count": 22,
     "metadata": {},
     "output_type": "execute_result"
    }
   ],
   "source": [
    "len(complete_df['book_id'].unique())"
   ]
  },
  {
   "cell_type": "markdown",
   "id": "719499cf",
   "metadata": {},
   "source": [
    "Average number of ratings associated with a book = (total number of ratings)/(total number of books)"
   ]
  },
  {
   "cell_type": "code",
   "execution_count": 23,
   "id": "3b80cd36",
   "metadata": {},
   "outputs": [
    {
     "data": {
      "text/plain": [
       "1546.2475782833972"
      ]
     },
     "execution_count": 23,
     "metadata": {},
     "output_type": "execute_result"
    }
   ],
   "source": [
    "complete_df.shape[0]/len(complete_df['book_id'].unique())"
   ]
  },
  {
   "cell_type": "markdown",
   "id": "3a4018bd",
   "metadata": {},
   "source": [
    "Therefore, average number of books rated by each person $\\approx$ 1546.25"
   ]
  },
  {
   "cell_type": "markdown",
   "id": "6a48e00b",
   "metadata": {},
   "source": [
    "## A plot of number of ratings by book"
   ]
  },
  {
   "cell_type": "code",
   "execution_count": 27,
   "id": "e1ed0423",
   "metadata": {},
   "outputs": [
    {
     "data": {
      "text/plain": [
       "<AxesSubplot:ylabel='Frequency'>"
      ]
     },
     "execution_count": 27,
     "metadata": {},
     "output_type": "execute_result"
    },
    {
     "data": {
      "image/png": "[encoded data removed]",
      "text/plain": [
       "<Figure size 432x288 with 1 Axes>"
      ]
     },
     "metadata": {
      "needs_background": "light"
     },
     "output_type": "display_data"
    }
   ],
   "source": [
    "complete_df.groupby('book_id')['rating'].count().plot(kind='hist', bins=25)"
   ]
  },
  {
   "cell_type": "markdown",
   "id": "34005792",
   "metadata": {},
   "source": [
    "### Zooming in.."
   ]
  },
  {
   "cell_type": "code",
   "execution_count": 28,
   "id": "d1592230",
   "metadata": {},
   "outputs": [],
   "source": [
    "ratings_freq_df = complete_df.groupby('book_id')['rating'].count()"
   ]
  },
  {
   "cell_type": "code",
   "execution_count": 35,
   "id": "e181082e",
   "metadata": {},
   "outputs": [
    {
     "data": {
      "text/plain": [
       "book_id\n",
       "3       118517\n",
       "4        76352\n",
       "5        83020\n",
       "6        56320\n",
       "8        57888\n",
       "         ...  \n",
       "9991       122\n",
       "9992       112\n",
       "9996       141\n",
       "9998       102\n",
       "9999       130\n",
       "Name: rating, Length: 4439, dtype: int64"
      ]
     },
     "execution_count": 35,
     "metadata": {},
     "output_type": "execute_result"
    }
   ],
   "source": [
    "ratings_freq_df"
   ]
  },
  {
   "cell_type": "code",
   "execution_count": 37,
   "id": "886eb721",
   "metadata": {},
   "outputs": [
    {
     "data": {
      "text/plain": [
       "<AxesSubplot:ylabel='Frequency'>"
      ]
     },
     "execution_count": 37,
     "metadata": {},
     "output_type": "execute_result"
    },
    {
     "data": {
      "image/png": "[encoded data removed]",
      "text/plain": [
       "<Figure size 432x288 with 1 Axes>"
      ]
     },
     "metadata": {
      "needs_background": "light"
     },
     "output_type": "display_data"
    }
   ],
   "source": [
    "ratings_freq_df[ratings_freq_df<40000].plot(kind='hist')"
   ]
  },
  {
   "cell_type": "code",
   "execution_count": 43,
   "id": "f7d38765",
   "metadata": {},
   "outputs": [
    {
     "data": {
      "text/plain": [
       "<AxesSubplot:ylabel='Frequency'>"
      ]
     },
     "execution_count": 43,
     "metadata": {},
     "output_type": "execute_result"
    },
    {
     "data": {
      "image/png": "[encoded data removed]",
      "text/plain": [
       "<Figure size 432x288 with 1 Axes>"
      ]
     },
     "metadata": {
      "needs_background": "light"
     },
     "output_type": "display_data"
    }
   ],
   "source": [
    "ratings_freq_df[ratings_freq_df<=25000].plot(kind='hist', bins=20)"
   ]
  },
  {
   "cell_type": "code",
   "execution_count": 41,
   "id": "39fe4ff7",
   "metadata": {},
   "outputs": [
    {
     "data": {
      "text/plain": [
       "<AxesSubplot:ylabel='Frequency'>"
      ]
     },
     "execution_count": 41,
     "metadata": {},
     "output_type": "execute_result"
    },
    {
     "data": {
      "image/png": "[encoded data removed]",
      "text/plain": [
       "<Figure size 432x288 with 1 Axes>"
      ]
     },
     "metadata": {
      "needs_background": "light"
     },
     "output_type": "display_data"
    }
   ],
   "source": [
    "ratings_freq_df[ratings_freq_df<=10000].plot(kind='hist', bins=20)"
   ]
  },
  {
   "cell_type": "code",
   "execution_count": 44,
   "id": "d48e59bb",
   "metadata": {},
   "outputs": [
    {
     "data": {
      "text/plain": [
       "<AxesSubplot:ylabel='Frequency'>"
      ]
     },
     "execution_count": 44,
     "metadata": {},
     "output_type": "execute_result"
    },
    {
     "data": {
      "image/png": "[encoded data removed]",
      "text/plain": [
       "<Figure size 432x288 with 1 Axes>"
      ]
     },
     "metadata": {
      "needs_background": "light"
     },
     "output_type": "display_data"
    }
   ],
   "source": [
    "ratings_freq_df[ratings_freq_df<=2000].plot(kind='hist', bins=20)"
   ]
  },
  {
   "cell_type": "markdown",
   "id": "cec02461",
   "metadata": {},
   "source": [
    "The distribution is very skewed."
   ]
  },
  {
   "cell_type": "code",
   "execution_count": 45,
   "id": "5829505f",
   "metadata": {},
   "outputs": [
    {
     "data": {
      "text/plain": [
       "3869"
      ]
     },
     "execution_count": 45,
     "metadata": {},
     "output_type": "execute_result"
    }
   ],
   "source": [
    "len(ratings_freq_df[ratings_freq_df<=2000])"
   ]
  },
  {
   "cell_type": "markdown",
   "id": "6414d0aa",
   "metadata": {},
   "source": [
    "### So 3869 of 4439 books have ratings less than 2000 in count."
   ]
  },
  {
   "cell_type": "code",
   "execution_count": 46,
   "id": "81cecd30",
   "metadata": {},
   "outputs": [
    {
     "data": {
      "text/plain": [
       "60"
      ]
     },
     "execution_count": 46,
     "metadata": {},
     "output_type": "execute_result"
    }
   ],
   "source": [
    "#Min number of ratings by users:\n",
    "complete_df.groupby('book_id')['rating'].count().min()"
   ]
  },
  {
   "cell_type": "code",
   "execution_count": 47,
   "id": "b167f077",
   "metadata": {},
   "outputs": [
    {
     "data": {
      "text/plain": [
       "140913"
      ]
     },
     "execution_count": 47,
     "metadata": {},
     "output_type": "execute_result"
    }
   ],
   "source": [
    "#Max number of ratings by users:\n",
    "complete_df.groupby('book_id')['rating'].count().max()"
   ]
  },
  {
   "cell_type": "code",
   "execution_count": 48,
   "id": "2a347d2b",
   "metadata": {},
   "outputs": [
    {
     "data": {
      "text/plain": [
       "387.0"
      ]
     },
     "execution_count": 48,
     "metadata": {},
     "output_type": "execute_result"
    }
   ],
   "source": [
    "#Median number of ratings by users:\n",
    "complete_df.groupby('book_id')['rating'].count().median()"
   ]
  },
  {
   "cell_type": "code",
   "execution_count": 54,
   "id": "9c34fc8e",
   "metadata": {},
   "outputs": [
    {
     "data": {
      "text/plain": [
       "5898.987318070273"
      ]
     },
     "execution_count": 54,
     "metadata": {},
     "output_type": "execute_result"
    }
   ],
   "source": [
    "#Standard deviation of number of ratings by users:\n",
    "complete_df.groupby('book_id')['rating'].count().std()"
   ]
  },
  {
   "cell_type": "markdown",
   "id": "6b7c9799",
   "metadata": {},
   "source": [
    "Thus, **minimum number of ratings that a book has = 60**\n",
    "\n",
    "\n",
    "**Maximum number of ratings that a book has = 140913**\n",
    "\n",
    "**Median number of ratings that a book has = 387**\n",
    "\n",
    "**Standard deviation of ratings that a book has $\\approx$ 5899**"
   ]
  },
  {
   "cell_type": "code",
   "execution_count": null,
   "id": "46b8e7c7",
   "metadata": {},
   "outputs": [],
   "source": []
  }
 ],
 "metadata": {
  "kernelspec": {
   "display_name": "Python 3 (ipykernel)",
   "language": "python",
   "name": "python3"
  },
  "language_info": {
   "codemirror_mode": {
    "name": "ipython",
    "version": 3
   },
   "file_extension": ".py",
   "mimetype": "text/x-python",
   "name": "python",
   "nbconvert_exporter": "python",
   "pygments_lexer": "ipython3",
   "version": "3.9.7"
  }
 },
 "nbformat": 4,
 "nbformat_minor": 5
}
